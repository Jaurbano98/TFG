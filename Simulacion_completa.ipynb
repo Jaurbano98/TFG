{
  "cells": [
    {
      "cell_type": "markdown",
      "metadata": {
        "id": "miKnxyntZbSg"
      },
      "source": [
        "# Simulación de Modelos de Neuronas\n",
        "\n",
        "Este proyecto se centra en la simulación de varios modelos de neuronas, utilizando algoritmos de aprendizaje automático y técnicas de simulación numérica. Los modelos incluyen:\n",
        "\n",
        "- Integrate-and-Fire (IF)\n",
        "- FitzHugh-Nagumo (FHN)\n",
        "- Integrate-and-Fire con Adaptación (IFA)\n",
        "- Hodgkin-Huxley (HH)\n",
        "- Nonlinear Integrate-and-Fire (NLIF)\n",
        "\n",
        "## Bibliotecas Importadas\n",
        "\n",
        "En este proyecto se utilizan las siguientes bibliotecas de Python:\n",
        "\n",
        "1. **NumPy**:\n",
        "    - `import numpy as np`\n",
        "\n",
        "2. **Scikit-learn**:\n",
        "    - `from sklearn.model_selection import train_test_split`\n",
        "    - `from sklearn.metrics import accuracy_score`\n",
        "    - Aprendizaje automático en Python. Se utiliza para dividir los datos en conjuntos de entrenamiento y prueba (`train_test_split`) y para calcular la precisión del modelo (`accuracy_score`).\n",
        "\n",
        "3. **Time**:\n",
        "    - `import time`\n",
        "    - Medición y manipulación del tiempo. En este proyecto, se utiliza para medir el tiempo de ejecución de los modelos.\n"
      ]
    },
    {
      "cell_type": "code",
      "execution_count": 1,
      "metadata": {
        "id": "bsIA15nLke6W"
      },
      "outputs": [],
      "source": [
        "import numpy as np\n",
        "from sklearn.model_selection import train_test_split\n",
        "from sklearn.metrics import accuracy_score\n",
        "import matplotlib.pyplot as plt\n",
        "import time"
      ]
    },
    {
      "cell_type": "markdown",
      "metadata": {
        "id": "g7TZp7VHZbSi"
      },
      "source": [
        "# Modelos Neuronales\n",
        "\n",
        "\n",
        "## Integrate-and-Fire (IF)\n",
        "La ecuación diferencial que describe la dinámica del potencial de membrana $v$ es:\n",
        "\n",
        "$$\n",
        "\\frac{dv}{dt} = \\frac{-v + i}{\\tau}\n",
        "$$\n",
        "\n",
        "donde:\n",
        "- $\\tau $ es la constante de tiempo de la membrana.\n",
        "- $v$ es el potencial de membrana.\n",
        "- $i$ es la corriente de entrada.\n",
        "\n",
        "Cuando $v$ alcanza el umbral $v_{th}$, se genera un spike y $v$ se reinicia a $v_{reset}$.\n",
        "\n",
        "$$\n",
        "\\text{si } v(t) \\geq v_{th}, \\text{ entonces } v(t) \\leftarrow 0\n",
        "$$\n"
      ]
    },
    {
      "cell_type": "code",
      "execution_count": 2,
      "metadata": {
        "id": "6Lb_ZATgZbSi"
      },
      "outputs": [],
      "source": [
        "class IF:\n",
        "    def __init__(self, tau, v_reset, v_th, v_init):\n",
        "        self.tau = tau\n",
        "        self.v_reset = v_reset\n",
        "        self.v_th = v_th\n",
        "        self.v = v_init\n",
        "\n",
        "    def update(self, I, dt):\n",
        "        dvdt = (-self.v + I) / self.tau\n",
        "        self.v += dvdt * dt\n",
        "        if self.v >= self.v_th:\n",
        "            spike = True\n",
        "            self.v = self.v_reset\n",
        "        else:\n",
        "            spike = False\n",
        "        return spike"
      ]
    },
    {
      "cell_type": "markdown",
      "metadata": {
        "id": "HiCL2SDFZbSi"
      },
      "source": [
        "## Modelo FitzHugh-Nagumo\n",
        "\n",
        "Las ecuaciones diferenciales que describen la dinámica del potencial de membrana $V$ y la variable de recuperación $W$ es:\n",
        "\n",
        "$$\n",
        "\\frac{dv}{dt} = v - \\frac{v^3}{3} - w + i\n",
        "$$\n",
        "\n",
        "$$\n",
        "\\frac{dw}{dt} = \\frac{v + a - bW}{\\tau}\n",
        "$$\n",
        "\n",
        "\n",
        "donde:\n",
        "- $v$ es el potencial de membrana.\n",
        "- $w$ es la variable de recuperación.\n",
        "- $i$ es la corriente de entrada.\n",
        "- $a$ es un parámetro que influye en la tasa de recuperación de $w$.\n",
        "- $b$ es un parámetro que modula la amplitud de $w$.\n",
        "- $\\tau$ es la constante de tiempo asociada con la variable $w$, que determina la rapidez con la que $w$ responde a cambios en $v$."
      ]
    },
    {
      "cell_type": "code",
      "execution_count": 3,
      "metadata": {
        "id": "Mixa_n8jZbSj"
      },
      "outputs": [],
      "source": [
        "class FitzHughNagumo:\n",
        "    def __init__(self, v_init, w_init, a, b, tau):\n",
        "        self.v = v_init\n",
        "        self.w = w_init\n",
        "        self.a = a\n",
        "        self.b = b\n",
        "        self.tau = tau\n",
        "\n",
        "    def update(self, I, dt):\n",
        "        dvdt = self.v - (self.v ** 3) / 3 - self.w + I\n",
        "        dwdt = (self.v + self.a - self.b * self.w) / self.tau\n",
        "\n",
        "        self.v += dvdt * dt\n",
        "        self.w += dwdt * dt\n",
        "\n",
        "        spike = self.v >= 1.0\n",
        "        if spike:\n",
        "            self.v = 0.0\n",
        "            self.w += 0.5\n",
        "        return spike"
      ]
    },
    {
      "cell_type": "markdown",
      "metadata": {
        "id": "hNHwfrGaZbSj"
      },
      "source": [
        "## Modelo Integrate and Fire con Adaptación\n",
        "\n",
        "$$\n",
        "\\frac{dv}{dt} = \\frac{-v + i - w}{\\tau}\n",
        "$$\n",
        "$$\n",
        "\\frac{dw}{dt} = \\frac{a \\cdot v - w}{\\tau_w}\n",
        "$$\n",
        "\n",
        "donde:\n",
        "- $\\tau$ es la constante de tiempo para la variable $v$.\n",
        "- $\\tau_w$ es la constante de tiempo para la variable de adaptación $w$.\n",
        "- $v$ es el potencial de membrana.\n",
        "- $w$ es la variable de adaptación.\n",
        "- $i$ es la corriente de entrada.\n",
        "- $a$ es la constante de adaptación que controla la influencia de $w$ sobre $v$."
      ]
    },
    {
      "cell_type": "code",
      "execution_count": 4,
      "metadata": {
        "id": "c54nejtwZbSj"
      },
      "outputs": [],
      "source": [
        "class IFAdaptacion:\n",
        "    def __init__(self, tau, tau_w, v_reset, v_th, v_init, w_init, a):\n",
        "        self.tau = tau\n",
        "        self.tau_w = tau_w\n",
        "        self.v_reset = v_reset\n",
        "        self.v_th = v_th\n",
        "        self.v = v_init\n",
        "        self.w = w_init\n",
        "        self.a = a\n",
        "\n",
        "    def update(self, I, dt):\n",
        "        dvdt = (-self.v + I - self.w) / self.tau\n",
        "        dwdt = (self.a * self.v - self.w) / self.tau_w\n",
        "\n",
        "        self.v += dvdt * dt\n",
        "        self.w += dwdt * dt\n",
        "\n",
        "        spike = self.v >= self.v_th\n",
        "        if spike:\n",
        "            self.v = self.v_reset\n",
        "            self.w += 1.0\n",
        "        return spike"
      ]
    },
    {
      "cell_type": "markdown",
      "metadata": {
        "id": "tc_tizyqZbSj"
      },
      "source": [
        "## Modelo Hodgkin-Huxley\n",
        "\n",
        "Las ecuaciones diferenciales que describen la dinámica del potencial de membrana $v$, y las variables de compuerta $n$, $m$, y $h$ son:\n",
        "\n",
        "$$\n",
        "\\frac{dv}{dt} = \\frac{I - \\bar{g}_{Na} m^3 h (v - E_{Na}) - \\bar{g}_{K} n^4 (v - E_{K}) - \\bar{g}_{L} (v - E_{L})}{C}\n",
        "$$\n",
        "\n",
        "$$\n",
        "\\begin{array}{ccc}\n",
        "\\frac{dn}{dt} = \\alpha_n (1 - n) - \\beta_n n & \\quad & \\frac{dm}{dt} = \\alpha_m (1 - m) - \\beta_m m & \\quad & \\frac{dh}{dt} = \\alpha_h (1 - h) - \\beta_h h\n",
        "\\end{array}\n",
        "$$\n",
        "\n",
        "donde las constantes $\\alpha$ y $\\beta$ son funciones del potencial de membrana $v$:\n",
        "\n",
        "$$\n",
        "\\begin{array}{ccc}\n",
        "\\alpha_n = \\frac{0.01 (v + 60)}{1 - e^{-0.1 (v + 60)}} & \\beta_n = 0.125 e^{-\\frac{(v + 70)}{80}}\n",
        "\\end{array}\n",
        "$$\n",
        "\n",
        "$$\n",
        "\\begin{array}{ccc}\n",
        "\\alpha_m = \\frac{0.1 (v + 45)}{1 - e^{-0.1 (v + 45)}} & \\beta_m = 4 e^{-0.0556 (v + 70)}\n",
        "\\end{array}\n",
        "$$\n",
        "\n",
        "$$\n",
        "\\begin{array}{ccc}\n",
        "\\alpha_h = 0.07 e^{-0.05 (v + 70)} & \\beta_h = \\frac{1}{1 + e^{-0.1 (v + 40)}}\n",
        "\\end{array}\n",
        "$$\n",
        "\n",
        "### Parámetros\n",
        "\n",
        "- $v$ es el potencial de membrana.\n",
        "- $n$ es la probabilidad de apertura de los canales de potasio.\n",
        "- $m$ es la probabilidad de apertura de los canales de sodio (activación).\n",
        "- $h$ es la probabilidad de cierre de los canales de sodio (inactivación).\n",
        "- $i$ es la corriente externa aplicada.\n",
        "- $C$ es la capacitancia de la membrana ($\\mu F$/$cm^2$).\n",
        "- $\\bar{g}_{Na}$ es la conductancia máxima de los canales de sodio (mS/$cm^2$).\n",
        "- $\\bar{g}_{K}$ es la conductancia máxima de los canales de potasio (mS/$cm^2$).\n",
        "- $\\bar{g}_{L}$ es la conductancia de fuga (mS/$cm^2$).\n",
        "- $E_{Na}$ es el potencial de equilibrio del sodio ($mV$).\n",
        "- $E_{K}$ es el potencial de equilibrio del potasio ($mV$).\n",
        "- $E_{L}$ es el potencial de equilibrio de la fuga ($mV$).\n",
        "\n",
        "Las conductancias y potenciales de equilibrio específicos son:\n",
        "- $\\bar{g}_{Na} = 120.0$ $mS$/$cm^2$\n",
        "- $\\bar{g}_{K} = 36.0$ $mS$/$cm^2$\n",
        "- $\\bar{g}_{L} = 0.3$ $mS$/$cm^2$\n",
        "- $E_{Na} = 55.0$ $mV$\n",
        "- $E_{K} = -82.0$ $mV$\n",
        "- $E_{L} = -59.0$ $mV$\n"
      ]
    },
    {
      "cell_type": "code",
      "execution_count": 5,
      "metadata": {
        "id": "GQxJAp5_ZbSj"
      },
      "outputs": [],
      "source": [
        "class HH:\n",
        "    def __init__(self, v_init, n_init, m_init, h_init):\n",
        "        self.v = v_init\n",
        "        self.n = n_init\n",
        "        self.m = m_init\n",
        "        self.h = h_init\n",
        "        self.C = 1.0\n",
        "        self.g_Na = 120.0\n",
        "        self.g_K = 36.0\n",
        "        self.g_L = 0.3\n",
        "        self.E_Na = 55.0\n",
        "        self.E_K = -82.0\n",
        "        self.E_L = -59.0\n",
        "\n",
        "    def update(self, I, dt):\n",
        "        alpha_n = (0.01 * (self.v + 60.0)) / (1.0 - np.exp(-0.1 * (self.v + 60.0)))\n",
        "        beta_n = 0.125 * np.exp(-(1/80) * (self.v + 70.0))\n",
        "        alpha_m = (0.1 * (self.v + 45.0)) / (1.0 - np.exp(-0.1 * (self.v + 45.0)))\n",
        "        beta_m = 4.0 * np.exp(-0.0556 * (self.v + 70.0))\n",
        "        alpha_h = 0.07 * np.exp(-0.05 * (self.v + 70.0))\n",
        "        beta_h = 1.0 / (1.0 + np.exp(-0.1 * (self.v + 40.0)))\n",
        "\n",
        "        dvdt = (I - self.g_Na * self.m**3 * self.h * (self.v - self.E_Na) - self.g_K * self.n**4 * (self.v - self.E_K) - self.g_L * (self.v - self.E_L)) / self.C\n",
        "        dndt = alpha_n * (1.0 - self.n) - beta_n * self.n\n",
        "        dmdt = alpha_m * (1.0 - self.m) - beta_m * self.m\n",
        "        dhdt = alpha_h * (1.0 - self.h) - beta_h * self.h\n",
        "\n",
        "        self.v += dvdt * dt\n",
        "        self.n += dndt * dt\n",
        "        self.m += dmdt * dt\n",
        "        self.h += dhdt * dt\n",
        "\n",
        "        spike = self.v >= 0.0\n",
        "        if spike:\n",
        "            self.v = 30.0\n",
        "            self.n = 0.3177\n",
        "            self.m = 0.0529\n",
        "            self.h = 0.5961\n",
        "        return spike"
      ]
    },
    {
      "cell_type": "markdown",
      "metadata": {
        "id": "JyRl96meZbSk"
      },
      "source": [
        "## Modelo Integrate and Fire NLIF\n",
        "\n",
        "\n",
        "\\begin{array}{ll}\n",
        "\\tau \\frac{\\mathrm{d}v(t)}{\\mathrm{d}t} = - v(t) + i(t) \\\\\n",
        "v(t) \\leftarrow\n",
        "\\begin{cases}\n",
        "v_{reset} + m \\cdot (v(t) - v_{th}) & \\text{si } v(t) \\geq v_{th} \\\\\n",
        "v(t) \\cdot n & \\text{en caso contrario}\n",
        "\\end{cases}\n",
        "\\end{array}\n",
        "\n",
        "\n",
        "\n",
        "donde:\n",
        "- $\\tau$ es la constante de tiempo para la variable $v$.\n",
        "- $v$ es el potencial de membrana.\n",
        "- $m$ es un factor de reseteo si se produce el impulso.\n",
        "- $n$ es un factor de reajuste si no se produce el impulso; al no alcanzar el umbral, corrige y crea un efecto de caida."
      ]
    },
    {
      "cell_type": "code",
      "execution_count": 6,
      "metadata": {
        "id": "HNS4xX70ZbSk"
      },
      "outputs": [],
      "source": [
        "class NLIF:\n",
        "    def __init__(self, tau, v_reset, v_th, v_init, m, n):\n",
        "        self.tau = tau\n",
        "        self.v_reset = v_reset\n",
        "        self.v_th = v_th\n",
        "        self.v = v_init\n",
        "        self.m = m\n",
        "        self.n = n\n",
        "\n",
        "    def update(self, I, dt):\n",
        "        dvdt = (-self.v + I) / self.tau\n",
        "        self.v += dvdt * dt\n",
        "        spike = self.v >= self.v_th\n",
        "        self.v = np.where(spike, self.v_reset + self.m * (self.v - self.v_th), self.v * self.n)\n",
        "        return spike"
      ]
    },
    {
      "cell_type": "markdown",
      "metadata": {
        "id": "WYEeMFFjZbSk"
      },
      "source": [
        "# Entrenamiento de modelos y parámetros utilizados\n",
        "\n",
        "Se invita al observador a interactuar con los parámetros, para investigar posibles optimizaciones de rendimiento."
      ]
    },
    {
      "cell_type": "markdown",
      "metadata": {
        "id": "P0mQR_5EZbSk"
      },
      "source": [
        "## Integrate-and-Fire (IF)\n",
        "\n",
        "### Parámetros:\n",
        "\n",
        "- tau = 10 milisegundos $(ms)$\n",
        "- v_reset = 0 milivoltios $(mV)$\n",
        "- v_th = 0.5\n"
      ]
    },
    {
      "cell_type": "code",
      "execution_count": 7,
      "metadata": {
        "id": "2I5-Ln-yZbSk"
      },
      "outputs": [],
      "source": [
        "class IFModel:\n",
        "    def __init__(self):\n",
        "        self.neuron = IF(tau=10, v_reset=0, v_th=0.5, v_init=0)\n",
        "\n",
        "    def fit(self, X, y):\n",
        "        pass\n",
        "\n",
        "    def predict(self, X):\n",
        "        predictions = []\n",
        "        for sample in X:\n",
        "            spikes = [self.neuron.update(I=ft, dt=1) for ft in sample]\n",
        "            predictions.append(int(any(spikes)))\n",
        "        return np.array(predictions)"
      ]
    },
    {
      "cell_type": "markdown",
      "metadata": {
        "id": "x9nXs3CBZbSk"
      },
      "source": [
        "## FitzHugh-Nagumo (FHN)\n",
        "\n",
        "### Parámetros:\n",
        "\n",
        "- v_init =  - 1.0 $mV$\n",
        "- w_init =  - 0.5 $mV$\n",
        "- a = 0.7\n",
        "- b = 0.8\n",
        "- tau = 12.5 $mS$"
      ]
    },
    {
      "cell_type": "code",
      "execution_count": 8,
      "metadata": {
        "id": "7qn4t6V_ZbSl"
      },
      "outputs": [],
      "source": [
        "class FHNModel:\n",
        "    def __init__(self):\n",
        "        self.neuron = FitzHughNagumo(v_init = -1, w_init = -0.5, a = 0.7, b = 0.8, tau = 12.5)\n",
        "    def fit(self, X, y):\n",
        "        pass\n",
        "\n",
        "    def predict(self, X):\n",
        "        predictions = []\n",
        "        for sample in X:\n",
        "            spikes = [self.neuron.update(I=ft, dt=1) for ft in sample]\n",
        "            predictions.append(int(any(spikes)))\n",
        "        return np.array(predictions)"
      ]
    },
    {
      "cell_type": "markdown",
      "metadata": {
        "id": "uPPeU4oGZbSl"
      },
      "source": [
        "## Hodgkin -Huxley (HH)\n",
        "\n",
        "Los parámetros propios del modelo están descritos arriba en el modelo, al ser puramente biológico.\n",
        "\n",
        "El resto de parámetros son los parámetros iniciales del voltaje inicial y de los portales de activación:\n",
        "\n",
        "- v_init = -65 mV\n",
        "- n_init = -0.317\n",
        "- m_init = 0.053\n",
        "- h_init = 0.5961"
      ]
    },
    {
      "cell_type": "code",
      "execution_count": 9,
      "metadata": {
        "id": "yO6EG3i8ZbSl"
      },
      "outputs": [],
      "source": [
        "class HHModel:\n",
        "    def __init__(self):\n",
        "        self.neuron = HH(v_init=-65.0, n_init=0.3177, m_init=0.0529, h_init=0.5961)\n",
        "\n",
        "    def fit(self, X, y):\n",
        "        pass\n",
        "\n",
        "    def predict(self, X):\n",
        "        predictions = []\n",
        "        for sample in X:\n",
        "            spikes = [self.neuron.update(I=ft, dt=1) for ft in sample]\n",
        "            predictions.append(int(any(spikes)))\n",
        "        return np.array(predictions)"
      ]
    },
    {
      "cell_type": "markdown",
      "metadata": {
        "id": "bvTALBZYZbSl"
      },
      "source": [
        "## NLIF\n",
        "\n",
        "### Parámetros:\n",
        "\n",
        "- tau = 10 milisegundos $(ms)$\n",
        "- v_reset = 0 milivoltios $(mV)$\n",
        "- v_th = 0.5 milivoltios $(mV)$\n",
        "- v_init=0.0 milivoltios $(mV)$  \n",
        "- m = 1.0\n",
        "- n = 1.0"
      ]
    },
    {
      "cell_type": "code",
      "execution_count": 10,
      "metadata": {
        "id": "Vk6KAPsyZbSl"
      },
      "outputs": [],
      "source": [
        "class NLIFModel:\n",
        "    def __init__(self):\n",
        "        self.neuron = NLIF(tau=10, v_reset=0, v_th=0.5, v_init=0.0, m=1, n=1)\n",
        "\n",
        "    def fit(self, X, y):\n",
        "        pass\n",
        "\n",
        "    def predict(self, X):\n",
        "        predictions = []\n",
        "        for sample in X:\n",
        "            spikes = [self.neuron.update(I=ft, dt=1) for ft in sample]\n",
        "            predictions.append(int(any(spikes)))\n",
        "        return np.array(predictions)"
      ]
    },
    {
      "cell_type": "markdown",
      "metadata": {
        "id": "VVKRY7NKZbSl"
      },
      "source": [
        "## Integrate and Fire con Adaptación\n",
        "\n",
        "### Parámetros:\n",
        "\n",
        "- tau = 10 milisegundos $(ms)$\n",
        "- tau_w= 200 milisegundos $(ms)$\n",
        "- v_reset = 0 milivoltios $(mV)$\n",
        "- v_th = 1\n",
        "- v_init=0.0 milivoltios $(mV)$\n",
        "- w_init=0.0 milivoltios $(mV)$   \n",
        "- a = 1.0"
      ]
    },
    {
      "cell_type": "code",
      "execution_count": 11,
      "metadata": {
        "id": "urRJ_GRXZbSl"
      },
      "outputs": [],
      "source": [
        "class IFAModel:\n",
        "    def __init__(self):\n",
        "        self.neuron = IFAdaptacion(tau= 10, tau_w= 200, v_reset= 0, v_th= 1.0, v_init= 0, w_init=0, a=1)\n",
        "\n",
        "    def fit(self, X, y):\n",
        "        pass\n",
        "\n",
        "    def predict(self, X):\n",
        "        predictions = []\n",
        "        for sample in X:\n",
        "            spikes = [self.neuron.update(I=ft, dt=1) for ft in sample]\n",
        "            predictions.append(int(any(spikes)))\n",
        "        return np.array(predictions)"
      ]
    },
    {
      "cell_type": "markdown",
      "metadata": {
        "id": "VK_-nTCoZbSl"
      },
      "source": [
        "# SIMULACION"
      ]
    },
    {
      "cell_type": "markdown",
      "source": [
        "# Función Generate_Data:\n",
        "\n",
        "Esta función genera un conjunto de datos sintéticos con un número `num_samples` de muestras.\n",
        "\n",
        "La mitad de las muestras se extraen de una distribución normal con media 0 y desviación estándar 1.\n",
        "La otra mitad se extrae de una distribución normal con media 2 y desviación estándar 7.\n",
        "\n",
        "Las muestras se concatenan y se mezclan, y se crean las etiquetas correspondientes.\n",
        "\n",
        "Se invita al usuario a modificar todos los parámetros (media, desviación, número de muestras...etc)."
      ],
      "metadata": {
        "id": "9L0Y0K1wlvq4"
      }
    },
    {
      "cell_type": "code",
      "source": [
        "def generate_data(num_samples):\n",
        "    X1 = np.random.normal(0, 1, size=(num_samples // 2, 8))\n",
        "    X2 = np.random.normal(2, 7, size=(num_samples // 2, 8))\n",
        "    X = np.concatenate([X1, X2], axis=0)\n",
        "    y = np.concatenate([np.zeros(num_samples // 2), np.ones(num_samples // 2)]).astype(int)\n",
        "    indices = np.random.permutation(num_samples)\n",
        "    X = X[indices]\n",
        "    y = y[indices]\n",
        "    return X, y"
      ],
      "metadata": {
        "id": "jyjpqU4LmeMI"
      },
      "execution_count": 12,
      "outputs": []
    },
    {
      "cell_type": "markdown",
      "source": [
        "# Función evaluate_model:\n",
        "\n",
        "Sirve para evaluar el rendimiento de cada uno de los modelos previamente descrito.\n",
        "\n",
        "La función `evaluate_model` toma cada modelo y datos de entrenamiento/prueba como entrada.\n",
        " Ajusta el modelo a los datos de entrenamiento, predice las etiquetas para los datos de prueba, y calcula la precisión, el tiempo de ejecución y el número total de picos generados por el modelo.\n"
      ],
      "metadata": {
        "id": "LlS8IAznmiH_"
      }
    },
    {
      "cell_type": "code",
      "source": [
        "def evaluate_model(model, X_train, X_test, y_train, y_test):\n",
        "    start_time = time.time()\n",
        "    model.fit(X_train, y_train)\n",
        "    y_pred = model.predict(X_test)\n",
        "    end_time = time.time()\n",
        "    elapsed_time = end_time - start_time\n",
        "    total_spikes = sum([sum(model.neuron.update(I=ft, dt=1) for ft in sample) for sample in X_test])\n",
        "    accuracy = accuracy_score(y_test, y_pred)\n",
        "    return accuracy, elapsed_time, total_spikes"
      ],
      "metadata": {
        "id": "mNiCNZeunUw2"
      },
      "execution_count": 13,
      "outputs": []
    },
    {
      "cell_type": "markdown",
      "source": [
        "# Bloque principal.\n",
        "\n",
        "- Nº de muestras: 10,000.\n",
        "\n",
        "Código para generar datos, dividirlos en conjuntos de entrenamiento y prueba,\n",
        "crear instancias de modelos, evaluar cada modelo y mostrar los resultados."
      ],
      "metadata": {
        "id": "Q5Cxko3i7BJL"
      }
    },
    {
      "cell_type": "code",
      "execution_count": null,
      "metadata": {
        "id": "7z8jVZXQkVCu"
      },
      "outputs": [],
      "source": [
        "num_samples = 10000\n",
        "\n",
        "X, y = generate_data(num_samples)\n",
        "X_train, X_test, y_train, y_test = train_test_split(X, y, test_size=0.2, random_state=42)\n",
        "\n",
        "if_model = IFModel()\n",
        "hh_model = HHModel()\n",
        "nlif_model = NLIFModel()\n",
        "fhn_model = FHNModel()\n",
        "ifa_model = IFAModel()\n",
        "\n",
        "if_accuracy, if_time, t1 = evaluate_model(if_model, X_train, X_test, y_train, y_test)\n",
        "hh_accuracy, hh_time, t2 = evaluate_model(hh_model, X_train, X_test, y_train, y_test)\n",
        "nlif_accuracy, nlif_time, t3 = evaluate_model(nlif_model, X_train, X_test, y_train, y_test)\n",
        "fhn_accuracy, fhn_time, t4 = evaluate_model(fhn_model, X_train, X_test, y_train, y_test)\n",
        "ifa_accuracy, ifa_time, t5 = evaluate_model(ifa_model, X_train, X_test, y_train, y_test)\n",
        "\n",
        "print(\"Precisión del modelo IF:\", if_accuracy)\n",
        "print(\"Tiempo de ejecución del modelo IF:\", if_time, \"segundos\")\n",
        "print(\"Precisión del modelo HH:\", hh_accuracy)\n",
        "print(\"Tiempo de ejecución del modelo HH:\", hh_time, \"segundos\")\n",
        "print(\"Precisión del modelo NLIF:\", nlif_accuracy)\n",
        "print(\"Tiempo de ejecución del modelo NLIF:\", nlif_time, \"segundos\")\n",
        "print(\"Precisión del modelo FitzHugh-Nagumo:\", fhn_accuracy)\n",
        "print(\"Tiempo de ejecución del modelo FitzHugh-Nagumo:\", fhn_time, \"segundos\")\n",
        "print(\"Precisión del modelo Integrate-Fire con Adaptación:\", ifa_accuracy)\n",
        "print(\"Tiempo de ejecución del modelo Integrate-Fire con Adaptación:\", ifa_time, \"segundos\")"
      ]
    }
  ],
  "metadata": {
    "colab": {
      "provenance": []
    },
    "kernelspec": {
      "display_name": "Python 3",
      "name": "python3"
    },
    "language_info": {
      "name": "python",
      "version": "3.12.1"
    }
  },
  "nbformat": 4,
  "nbformat_minor": 0
}