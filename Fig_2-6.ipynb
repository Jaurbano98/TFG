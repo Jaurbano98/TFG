{
  "metadata": {
    "kernelspec": {
      "name": "python",
      "display_name": "Python (Pyodide)",
      "language": "python"
    },
    "language_info": {
      "codemirror_mode": {
        "name": "python",
        "version": 3
      },
      "file_extension": ".py",
      "mimetype": "text/x-python",
      "name": "python",
      "nbconvert_exporter": "python",
      "pygments_lexer": "ipython3",
      "version": "3.8"
    },
    "colab": {
      "provenance": []
    }
  },
  "nbformat_minor": 0,
  "nbformat": 4,
  "cells": [
    {
      "cell_type": "markdown",
      "source": [
        "# Codigo de la figura 2.6: Representacion de la función Delta\n",
        "\n"
      ],
      "metadata": {
        "id": "rfediGFo7jl3"
      }
    },
    {
      "cell_type": "markdown",
      "source": [
        "# 0. Importar bibliotecas"
      ],
      "metadata": {
        "id": "PFQt2yIf7jl6"
      }
    },
    {
      "cell_type": "code",
      "source": [
        "import numpy as np\n",
        "import matplotlib.pyplot as plt"
      ],
      "metadata": {
        "trusted": true,
        "id": "ewPR7dgW7jl6"
      },
      "outputs": [],
      "execution_count": 1
    },
    {
      "cell_type": "markdown",
      "source": [
        "# 1. Creación de funciones\n",
        "\n",
        "## delta_function:\n",
        "Función que representa una función delta gaussiana centrada en `a` con un ancho de delta dado.\n",
        "\n",
        "### Parámetros:\n",
        "- `x`: Variable independiente.\n",
        "- `a=0`: Centro de la función delta.\n",
        "- `delta_width=0.1`: Ancho de la función delta.\n",
        "\n",
        "### Retorna:\n",
        "- Valor de la función delta gaussiana en el punto `x`."
      ],
      "metadata": {
        "id": "kURaEehE7jl7"
      }
    },
    {
      "cell_type": "code",
      "source": [
        "def delta_function(x, a=0, delta_width=0.1):\n",
        "    return np.exp(-((x - a) / delta_width)**2) / (delta_width * np.sqrt(np.pi))"
      ],
      "metadata": {
        "trusted": true,
        "id": "pgD8YOgu7jl8"
      },
      "outputs": [],
      "execution_count": 2
    },
    {
      "cell_type": "markdown",
      "source": [
        "## Función para normalizar el área"
      ],
      "metadata": {
        "id": "GxRSIZ4T7rZ6"
      }
    },
    {
      "cell_type": "code",
      "source": [
        "def scale_to_max(y, target_max):\n",
        "    max_value = np.max(y)\n",
        "    scale_factor = target_max / max_value\n",
        "    return y * scale_factor"
      ],
      "metadata": {
        "id": "4g7JS_aF7ry5"
      },
      "execution_count": 7,
      "outputs": []
    },
    {
      "cell_type": "markdown",
      "source": [
        "# 2. Variables de entorno\n",
        "\n",
        "- `x`: Crear un espacio de variable independiente de -5 a 5 con 1000 puntos.\n",
        "- `y`: Aplicar la función `delta_function` a cada punto de `x`, almacenando los resultados en `y`.\n",
        "- `y_scaled`: Función delta normalizada.\n",
        "\n"
      ],
      "metadata": {
        "id": "1QLQyDm07jl8"
      }
    },
    {
      "cell_type": "code",
      "source": [
        "x = np.linspace(-5, 5, 1000)\n",
        "y = delta_function(x)\n",
        "y_scaled = scale_to_max(y, target_max=1)\n"
      ],
      "metadata": {
        "trusted": true,
        "id": "TebsHQ-_7jl8"
      },
      "outputs": [],
      "execution_count": 8
    },
    {
      "cell_type": "markdown",
      "source": [
        "# 3. Dibujo de la Función Delta de Dirac.\n"
      ],
      "metadata": {
        "id": "FlOD5GO97jl9"
      }
    },
    {
      "cell_type": "code",
      "source": [
        "fig, ax = plt.subplots(figsize=(8, 4))\n",
        "ax.plot(x, y_scaled, label='Función Delta')\n",
        "ax.set_xlabel('t')\n",
        "ax.set_ylabel(r'$\\delta(\\epsilon)$')\n",
        "ax.legend()\n",
        "plt.show()"
      ],
      "metadata": {
        "trusted": true,
        "colab": {
          "base_uri": "https://localhost:8080/",
          "height": 388
        },
        "id": "6NfP7cjV7jl9",
        "outputId": "da2bd683-ad55-410f-825d-2d4d72897369"
      },
      "outputs": [
        {
          "output_type": "display_data",
          "data": {
            "text/plain": [
              "<Figure size 800x400 with 1 Axes>"
            ],
            "image/png": "[encoded data removed]"
          },
          "metadata": {}
        }
      ],
      "execution_count": 9
    },
    {
      "cell_type": "code",
      "source": [],
      "metadata": {
        "id": "iljOsbtN8JWs"
      },
      "execution_count": null,
      "outputs": []
    }
  ]
}